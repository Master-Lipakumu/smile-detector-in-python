{
 "cells": [
  {
   "cell_type": "code",
   "execution_count": 1,
   "id": "8f903c0e-e5cb-4ffe-b25c-2978339745ae",
   "metadata": {},
   "outputs": [
    {
     "name": "stdout",
     "output_type": "stream",
     "text": [
      "Note: you may need to restart the kernel to use updated packages.\n"
     ]
    },
    {
     "name": "stderr",
     "output_type": "stream",
     "text": [
      "ERROR: Could not find a version that satisfies the requirement cv2 (from versions: none)\n",
      "ERROR: No matching distribution found for cv2\n"
     ]
    }
   ],
   "source": [
    "pip install cv2"
   ]
  },
  {
   "cell_type": "code",
   "execution_count": 2,
   "id": "6b855a0f-4e93-4f27-a23c-6f45a045e317",
   "metadata": {},
   "outputs": [
    {
     "ename": "IndentationError",
     "evalue": "unexpected indent (Temp/ipykernel_15876/603773664.py, line 9)",
     "output_type": "error",
     "traceback": [
      "\u001b[1;36m  File \u001b[1;32m\"C:\\Users\\MASTER~1\\AppData\\Local\\Temp/ipykernel_15876/603773664.py\"\u001b[1;36m, line \u001b[1;32m9\u001b[0m\n\u001b[1;33m    for (x,y,w,h) in face:\u001b[0m\n\u001b[1;37m    ^\u001b[0m\n\u001b[1;31mIndentationError\u001b[0m\u001b[1;31m:\u001b[0m unexpected indent\n"
     ]
    }
   ],
   "source": [
    "import cv2\n",
    "faceCascade = cv2.CascadeClassifier('frontalface.xml')\n",
    "smileCascade = cv2.CascadeClassifier('smile.xml')\n",
    "cap = cv2.VideoCapture(0)\n",
    "while True:\n",
    "    true, frame = cap.read()\n",
    "    gray = cv2.cvtColor(frame, cv2.COLOR_BGR2GRAY) #Sec 1\n",
    "    face = faceCascade.detectMultiScale(gray, scaleFactor=1.3, minNeighbors=5) #Sec 2\n",
    "     for (x,y,w,h) in face:\n",
    "        cv2.rectangle(frame,(x,y),(x+w,y+h),(0,0,204),2)\n",
    "        gray_temp = gray[y:y+h, x:x+w] //Sec 3\n",
    "        smile = smileCascade.detectMultiScale(gray_temp, scaleFactor= 1.3, minNeighbors=5) #Sec 4\n",
    "        for i in smile:\n",
    "            if len(smile)>1:\n",
    "                cv2.putText(frame,\"Smiling\",(x,y-50),cv2.FONT_HERSHEY_PLAIN, 2,(255,0,0),3,cv2.LINE_AA) #Sec 5\n",
    "    cv2.imshow('RESULT', frame)\n",
    "    if cv2.waitKey(1) & 0xFF==ord('q'):\n",
    "        break #Sec 6\n",
    "        \n",
    "cap.release()\n",
    "cv2.destroyAllWindows()"
   ]
  },
  {
   "cell_type": "code",
   "execution_count": 3,
   "id": "be8201ab-0fbe-4115-8b22-c2bb5e982e66",
   "metadata": {},
   "outputs": [
    {
     "name": "stdout",
     "output_type": "stream",
     "text": [
      "Note: you may need to restart the kernel to use updated packages.\n"
     ]
    },
    {
     "name": "stderr",
     "output_type": "stream",
     "text": [
      "ERROR: Could not find a version that satisfies the requirement python-opencv (from versions: none)\n",
      "ERROR: No matching distribution found for python-opencv\n"
     ]
    }
   ],
   "source": [
    "pip install python-opencv"
   ]
  },
  {
   "cell_type": "code",
   "execution_count": 4,
   "id": "f52c8fac-7e81-4707-aace-a80de2235f0f",
   "metadata": {},
   "outputs": [
    {
     "name": "stdout",
     "output_type": "stream",
     "text": [
      "Requirement already satisfied: opencv-python in c:\\users\\master lipakumu\\anaconda3\\lib\\site-packages (4.5.5.64)\n",
      "Requirement already satisfied: numpy>=1.14.5 in c:\\users\\master lipakumu\\anaconda3\\lib\\site-packages (from opencv-python) (1.20.3)\n",
      "Note: you may need to restart the kernel to use updated packages.\n"
     ]
    }
   ],
   "source": [
    "pip install opencv-python"
   ]
  },
  {
   "cell_type": "code",
   "execution_count": 5,
   "id": "8d1eff06-5a6b-4e42-ab3e-5688ccc01f60",
   "metadata": {},
   "outputs": [
    {
     "ename": "IndentationError",
     "evalue": "unexpected indent (Temp/ipykernel_15876/603773664.py, line 9)",
     "output_type": "error",
     "traceback": [
      "\u001b[1;36m  File \u001b[1;32m\"C:\\Users\\MASTER~1\\AppData\\Local\\Temp/ipykernel_15876/603773664.py\"\u001b[1;36m, line \u001b[1;32m9\u001b[0m\n\u001b[1;33m    for (x,y,w,h) in face:\u001b[0m\n\u001b[1;37m    ^\u001b[0m\n\u001b[1;31mIndentationError\u001b[0m\u001b[1;31m:\u001b[0m unexpected indent\n"
     ]
    }
   ],
   "source": [
    "import cv2\n",
    "faceCascade = cv2.CascadeClassifier('frontalface.xml')\n",
    "smileCascade = cv2.CascadeClassifier('smile.xml')\n",
    "cap = cv2.VideoCapture(0)\n",
    "while True:\n",
    "    true, frame = cap.read()\n",
    "    gray = cv2.cvtColor(frame, cv2.COLOR_BGR2GRAY) #Sec 1\n",
    "    face = faceCascade.detectMultiScale(gray, scaleFactor=1.3, minNeighbors=5) #Sec 2\n",
    "     for (x,y,w,h) in face:\n",
    "        cv2.rectangle(frame,(x,y),(x+w,y+h),(0,0,204),2)\n",
    "        gray_temp = gray[y:y+h, x:x+w] //Sec 3\n",
    "        smile = smileCascade.detectMultiScale(gray_temp, scaleFactor= 1.3, minNeighbors=5) #Sec 4\n",
    "        for i in smile:\n",
    "            if len(smile)>1:\n",
    "                cv2.putText(frame,\"Smiling\",(x,y-50),cv2.FONT_HERSHEY_PLAIN, 2,(255,0,0),3,cv2.LINE_AA) #Sec 5\n",
    "    cv2.imshow('RESULT', frame)\n",
    "    if cv2.waitKey(1) & 0xFF==ord('q'):\n",
    "        break #Sec 6\n",
    "        \n",
    "cap.release()\n",
    "cv2.destroyAllWindows()"
   ]
  },
  {
   "cell_type": "code",
   "execution_count": 6,
   "id": "1d21734e-0875-419a-892f-1cd57606deb1",
   "metadata": {},
   "outputs": [
    {
     "ename": "IndentationError",
     "evalue": "unexpected indent (Temp/ipykernel_15876/2086895108.py, line 9)",
     "output_type": "error",
     "traceback": [
      "\u001b[1;36m  File \u001b[1;32m\"C:\\Users\\MASTER~1\\AppData\\Local\\Temp/ipykernel_15876/2086895108.py\"\u001b[1;36m, line \u001b[1;32m9\u001b[0m\n\u001b[1;33m    for (x,y,w,h) in face:\u001b[0m\n\u001b[1;37m    ^\u001b[0m\n\u001b[1;31mIndentationError\u001b[0m\u001b[1;31m:\u001b[0m unexpected indent\n"
     ]
    }
   ],
   "source": [
    "import cv2\n",
    "faceCascade = cv2.CascadeClassifier('frontalface.xml')\n",
    "smileCascade = cv2.CascadeClassifier('smile.xml')\n",
    "cap = cv2.VideoCapture(0)\n",
    "while True:\n",
    "    true, frame = cap.read()\n",
    "    gray = cv2.cvtColor(frame, cv2.COLOR_BGR2GRAY) #Sec 1\n",
    "    face = faceCascade.detectMultiScale(gray, scaleFactor=1.3, minNeighbors=5) #Sec 2\n",
    "        for (x,y,w,h) in face:\n",
    "            cv2.rectangle(frame,(x,y),(x+w,y+h),(0,0,204),2)\n",
    "            gray_temp = gray[y:y+h, x:x+w] //Sec 3\n",
    "            smile = smileCascade.detectMultiScale(gray_temp, scaleFactor= 1.3, minNeighbors=5) #Sec 4\n",
    "            for i in smile:\n",
    "                if len(smile)>1:\n",
    "                    cv2.putText(frame,\"Smiling\",(x,y-50),cv2.FONT_HERSHEY_PLAIN, 2,(255,0,0),3,cv2.LINE_AA) #Sec 5\n",
    "            cv2.imshow('RESULT', frame)\n",
    "            if cv2.waitKey(1) & 0xFF==ord('q'):\n",
    "                break #Sec 6\n",
    "        \n",
    "cap.release()\n",
    "cv2.destroyAllWindows()"
   ]
  },
  {
   "cell_type": "code",
   "execution_count": 7,
   "id": "d0c498c3-d6b7-4f47-b82f-04e8c61978bd",
   "metadata": {},
   "outputs": [
    {
     "ename": "SyntaxError",
     "evalue": "invalid syntax (Temp/ipykernel_15876/1281390925.py, line 11)",
     "output_type": "error",
     "traceback": [
      "\u001b[1;36m  File \u001b[1;32m\"C:\\Users\\MASTER~1\\AppData\\Local\\Temp/ipykernel_15876/1281390925.py\"\u001b[1;36m, line \u001b[1;32m11\u001b[0m\n\u001b[1;33m    gray_temp = gray[y:y+h, x:x+w] //Sec 3\u001b[0m\n\u001b[1;37m                                         ^\u001b[0m\n\u001b[1;31mSyntaxError\u001b[0m\u001b[1;31m:\u001b[0m invalid syntax\n"
     ]
    }
   ],
   "source": [
    "import cv2\n",
    "faceCascade = cv2.CascadeClassifier('frontalface.xml')\n",
    "smileCascade = cv2.CascadeClassifier('smile.xml')\n",
    "cap = cv2.VideoCapture(0)\n",
    "while True:\n",
    "    true, frame = cap.read()\n",
    "    gray = cv2.cvtColor(frame, cv2.COLOR_BGR2GRAY) #Sec 1\n",
    "    face = faceCascade.detectMultiScale(gray, scaleFactor=1.3, minNeighbors=5) #Sec 2\n",
    "    for (x,y,w,h) in face:\n",
    "        cv2.rectangle(frame,(x,y),(x+w,y+h),(0,0,204),2)\n",
    "        gray_temp = gray[y:y+h, x:x+w] //Sec 3\n",
    "        smile = smileCascade.detectMultiScale(gray_temp, scaleFactor= 1.3, minNeighbors=5) #Sec 4\n",
    "        for i in smile:\n",
    "            if len(smile)>1:\n",
    "                cv2.putText(frame,\"Smiling\",(x,y-50),cv2.FONT_HERSHEY_PLAIN, 2,(255,0,0),3,cv2.LINE_AA) #Sec 5\n",
    "    cv2.imshow('RESULT', frame)\n",
    "    if cv2.waitKey(1) & 0xFF==ord('q'):\n",
    "        break #Sec 6\n",
    "        \n",
    "cap.release()\n",
    "cv2.destroyAllWindows()"
   ]
  },
  {
   "cell_type": "code",
   "execution_count": 8,
   "id": "c2bf1a98-3900-495d-b6e9-e2f7ceaf708f",
   "metadata": {},
   "outputs": [
    {
     "ename": "error",
     "evalue": "OpenCV(4.5.5) D:\\a\\opencv-python\\opencv-python\\opencv\\modules\\imgproc\\src\\color.cpp:182: error: (-215:Assertion failed) !_src.empty() in function 'cv::cvtColor'\n",
     "output_type": "error",
     "traceback": [
      "\u001b[1;31m---------------------------------------------------------------------------\u001b[0m",
      "\u001b[1;31merror\u001b[0m                                     Traceback (most recent call last)",
      "\u001b[1;32mC:\\Users\\MASTER~1\\AppData\\Local\\Temp/ipykernel_15876/2499661333.py\u001b[0m in \u001b[0;36m<module>\u001b[1;34m\u001b[0m\n\u001b[0;32m      5\u001b[0m \u001b[1;32mwhile\u001b[0m \u001b[1;32mTrue\u001b[0m\u001b[1;33m:\u001b[0m\u001b[1;33m\u001b[0m\u001b[1;33m\u001b[0m\u001b[0m\n\u001b[0;32m      6\u001b[0m     \u001b[0mtrue\u001b[0m\u001b[1;33m,\u001b[0m \u001b[0mframe\u001b[0m \u001b[1;33m=\u001b[0m \u001b[0mcap\u001b[0m\u001b[1;33m.\u001b[0m\u001b[0mread\u001b[0m\u001b[1;33m(\u001b[0m\u001b[1;33m)\u001b[0m\u001b[1;33m\u001b[0m\u001b[1;33m\u001b[0m\u001b[0m\n\u001b[1;32m----> 7\u001b[1;33m     \u001b[0mgray\u001b[0m \u001b[1;33m=\u001b[0m \u001b[0mcv2\u001b[0m\u001b[1;33m.\u001b[0m\u001b[0mcvtColor\u001b[0m\u001b[1;33m(\u001b[0m\u001b[0mframe\u001b[0m\u001b[1;33m,\u001b[0m \u001b[0mcv2\u001b[0m\u001b[1;33m.\u001b[0m\u001b[0mCOLOR_BGR2GRAY\u001b[0m\u001b[1;33m)\u001b[0m \u001b[1;31m#Sec 1\u001b[0m\u001b[1;33m\u001b[0m\u001b[1;33m\u001b[0m\u001b[0m\n\u001b[0m\u001b[0;32m      8\u001b[0m     \u001b[0mface\u001b[0m \u001b[1;33m=\u001b[0m \u001b[0mfaceCascade\u001b[0m\u001b[1;33m.\u001b[0m\u001b[0mdetectMultiScale\u001b[0m\u001b[1;33m(\u001b[0m\u001b[0mgray\u001b[0m\u001b[1;33m,\u001b[0m \u001b[0mscaleFactor\u001b[0m\u001b[1;33m=\u001b[0m\u001b[1;36m1.3\u001b[0m\u001b[1;33m,\u001b[0m \u001b[0mminNeighbors\u001b[0m\u001b[1;33m=\u001b[0m\u001b[1;36m5\u001b[0m\u001b[1;33m)\u001b[0m \u001b[1;31m#Sec 2\u001b[0m\u001b[1;33m\u001b[0m\u001b[1;33m\u001b[0m\u001b[0m\n\u001b[0;32m      9\u001b[0m     \u001b[1;32mfor\u001b[0m \u001b[1;33m(\u001b[0m\u001b[0mx\u001b[0m\u001b[1;33m,\u001b[0m\u001b[0my\u001b[0m\u001b[1;33m,\u001b[0m\u001b[0mw\u001b[0m\u001b[1;33m,\u001b[0m\u001b[0mh\u001b[0m\u001b[1;33m)\u001b[0m \u001b[1;32min\u001b[0m \u001b[0mface\u001b[0m\u001b[1;33m:\u001b[0m\u001b[1;33m\u001b[0m\u001b[1;33m\u001b[0m\u001b[0m\n",
      "\u001b[1;31merror\u001b[0m: OpenCV(4.5.5) D:\\a\\opencv-python\\opencv-python\\opencv\\modules\\imgproc\\src\\color.cpp:182: error: (-215:Assertion failed) !_src.empty() in function 'cv::cvtColor'\n"
     ]
    }
   ],
   "source": [
    "import cv2\n",
    "faceCascade = cv2.CascadeClassifier('frontalface.xml')\n",
    "smileCascade = cv2.CascadeClassifier('smile.xml')\n",
    "cap = cv2.VideoCapture(0)\n",
    "while True:\n",
    "    true, frame = cap.read()\n",
    "    gray = cv2.cvtColor(frame, cv2.COLOR_BGR2GRAY) #Sec 1\n",
    "    face = faceCascade.detectMultiScale(gray, scaleFactor=1.3, minNeighbors=5) #Sec 2\n",
    "    for (x,y,w,h) in face:\n",
    "        cv2.rectangle(frame,(x,y),(x+w,y+h),(0,0,204),2)\n",
    "        gray_temp = gray[y:y+h, x:x+w] #Sec 3\n",
    "        smile = smileCascade.detectMultiScale(gray_temp, scaleFactor= 1.3, minNeighbors=5) #Sec 4\n",
    "        for i in smile:\n",
    "            if len(smile)>1:\n",
    "                cv2.putText(frame,\"Smiling\",(x,y-50),cv2.FONT_HERSHEY_PLAIN, 2,(255,0,0),3,cv2.LINE_AA) #Sec 5\n",
    "    cv2.imshow('RESULT', frame)\n",
    "    if cv2.waitKey(1) & 0xFF==ord('q'):\n",
    "        break #Sec 6\n",
    "        \n",
    "cap.release()\n",
    "cv2.destroyAllWindows()"
   ]
  },
  {
   "cell_type": "code",
   "execution_count": 1,
   "id": "c5ae5170-a492-4cd7-8772-c636a8bdadb9",
   "metadata": {},
   "outputs": [
    {
     "ename": "KeyboardInterrupt",
     "evalue": "",
     "output_type": "error",
     "traceback": [
      "\u001b[1;31m---------------------------------------------------------------------------\u001b[0m",
      "\u001b[1;31mKeyboardInterrupt\u001b[0m                         Traceback (most recent call last)",
      "\u001b[1;32mC:\\Users\\MASTER~1\\AppData\\Local\\Temp/ipykernel_14364/2499661333.py\u001b[0m in \u001b[0;36m<module>\u001b[1;34m\u001b[0m\n\u001b[0;32m      6\u001b[0m     \u001b[0mtrue\u001b[0m\u001b[1;33m,\u001b[0m \u001b[0mframe\u001b[0m \u001b[1;33m=\u001b[0m \u001b[0mcap\u001b[0m\u001b[1;33m.\u001b[0m\u001b[0mread\u001b[0m\u001b[1;33m(\u001b[0m\u001b[1;33m)\u001b[0m\u001b[1;33m\u001b[0m\u001b[1;33m\u001b[0m\u001b[0m\n\u001b[0;32m      7\u001b[0m     \u001b[0mgray\u001b[0m \u001b[1;33m=\u001b[0m \u001b[0mcv2\u001b[0m\u001b[1;33m.\u001b[0m\u001b[0mcvtColor\u001b[0m\u001b[1;33m(\u001b[0m\u001b[0mframe\u001b[0m\u001b[1;33m,\u001b[0m \u001b[0mcv2\u001b[0m\u001b[1;33m.\u001b[0m\u001b[0mCOLOR_BGR2GRAY\u001b[0m\u001b[1;33m)\u001b[0m \u001b[1;31m#Sec 1\u001b[0m\u001b[1;33m\u001b[0m\u001b[1;33m\u001b[0m\u001b[0m\n\u001b[1;32m----> 8\u001b[1;33m     \u001b[0mface\u001b[0m \u001b[1;33m=\u001b[0m \u001b[0mfaceCascade\u001b[0m\u001b[1;33m.\u001b[0m\u001b[0mdetectMultiScale\u001b[0m\u001b[1;33m(\u001b[0m\u001b[0mgray\u001b[0m\u001b[1;33m,\u001b[0m \u001b[0mscaleFactor\u001b[0m\u001b[1;33m=\u001b[0m\u001b[1;36m1.3\u001b[0m\u001b[1;33m,\u001b[0m \u001b[0mminNeighbors\u001b[0m\u001b[1;33m=\u001b[0m\u001b[1;36m5\u001b[0m\u001b[1;33m)\u001b[0m \u001b[1;31m#Sec 2\u001b[0m\u001b[1;33m\u001b[0m\u001b[1;33m\u001b[0m\u001b[0m\n\u001b[0m\u001b[0;32m      9\u001b[0m     \u001b[1;32mfor\u001b[0m \u001b[1;33m(\u001b[0m\u001b[0mx\u001b[0m\u001b[1;33m,\u001b[0m\u001b[0my\u001b[0m\u001b[1;33m,\u001b[0m\u001b[0mw\u001b[0m\u001b[1;33m,\u001b[0m\u001b[0mh\u001b[0m\u001b[1;33m)\u001b[0m \u001b[1;32min\u001b[0m \u001b[0mface\u001b[0m\u001b[1;33m:\u001b[0m\u001b[1;33m\u001b[0m\u001b[1;33m\u001b[0m\u001b[0m\n\u001b[0;32m     10\u001b[0m         \u001b[0mcv2\u001b[0m\u001b[1;33m.\u001b[0m\u001b[0mrectangle\u001b[0m\u001b[1;33m(\u001b[0m\u001b[0mframe\u001b[0m\u001b[1;33m,\u001b[0m\u001b[1;33m(\u001b[0m\u001b[0mx\u001b[0m\u001b[1;33m,\u001b[0m\u001b[0my\u001b[0m\u001b[1;33m)\u001b[0m\u001b[1;33m,\u001b[0m\u001b[1;33m(\u001b[0m\u001b[0mx\u001b[0m\u001b[1;33m+\u001b[0m\u001b[0mw\u001b[0m\u001b[1;33m,\u001b[0m\u001b[0my\u001b[0m\u001b[1;33m+\u001b[0m\u001b[0mh\u001b[0m\u001b[1;33m)\u001b[0m\u001b[1;33m,\u001b[0m\u001b[1;33m(\u001b[0m\u001b[1;36m0\u001b[0m\u001b[1;33m,\u001b[0m\u001b[1;36m0\u001b[0m\u001b[1;33m,\u001b[0m\u001b[1;36m204\u001b[0m\u001b[1;33m)\u001b[0m\u001b[1;33m,\u001b[0m\u001b[1;36m2\u001b[0m\u001b[1;33m)\u001b[0m\u001b[1;33m\u001b[0m\u001b[1;33m\u001b[0m\u001b[0m\n",
      "\u001b[1;31mKeyboardInterrupt\u001b[0m: "
     ]
    }
   ],
   "source": [
    "import cv2\n",
    "faceCascade = cv2.CascadeClassifier('frontalface.xml')\n",
    "smileCascade = cv2.CascadeClassifier('smile.xml')\n",
    "cap = cv2.VideoCapture(0)\n",
    "while True:\n",
    "    true, frame = cap.read()\n",
    "    gray = cv2.cvtColor(frame, cv2.COLOR_BGR2GRAY) #Sec 1\n",
    "    face = faceCascade.detectMultiScale(gray, scaleFactor=1.3, minNeighbors=5) #Sec 2\n",
    "    for (x,y,w,h) in face:\n",
    "        cv2.rectangle(frame,(x,y),(x+w,y+h),(0,0,204),2)\n",
    "        gray_temp = gray[y:y+h, x:x+w] #Sec 3\n",
    "        smile = smileCascade.detectMultiScale(gray_temp, scaleFactor= 1.3, minNeighbors=5) #Sec 4\n",
    "        for i in smile:\n",
    "            if len(smile)>1:\n",
    "                cv2.putText(frame,\"Sourire\",(x,y-50),cv2.FONT_HERSHEY_PLAIN, 2,(255,0,0),3,cv2.LINE_AA) #Sec 5\n",
    "    cv2.imshow('RESULT', frame)\n",
    "    if cv2.waitKey(1) & 0xFF==ord('q'):\n",
    "        break #Sec 6\n",
    "        \n",
    "cap.release()\n",
    "cv2.destroyAllWindows()"
   ]
  },
  {
   "cell_type": "code",
   "execution_count": null,
   "id": "14110514-6f47-4922-8256-87ebe5fbf0c6",
   "metadata": {},
   "outputs": [],
   "source": []
  }
 ],
 "metadata": {
  "kernelspec": {
   "display_name": "Python 3 (ipykernel)",
   "language": "python",
   "name": "python3"
  },
  "language_info": {
   "codemirror_mode": {
    "name": "ipython",
    "version": 3
   },
   "file_extension": ".py",
   "mimetype": "text/x-python",
   "name": "python",
   "nbconvert_exporter": "python",
   "pygments_lexer": "ipython3",
   "version": "3.9.7"
  }
 },
 "nbformat": 4,
 "nbformat_minor": 5
}
